{
 "cells": [
  {
   "cell_type": "code",
   "execution_count": 1,
   "metadata": {},
   "outputs": [
    {
     "name": "stderr",
     "output_type": "stream",
     "text": [
      "2023-09-22 19:59:13.915029: I tensorflow/tsl/cuda/cudart_stub.cc:28] Could not find cuda drivers on your machine, GPU will not be used.\n",
      "2023-09-22 19:59:13.956979: I tensorflow/tsl/cuda/cudart_stub.cc:28] Could not find cuda drivers on your machine, GPU will not be used.\n",
      "2023-09-22 19:59:13.957537: I tensorflow/core/platform/cpu_feature_guard.cc:182] This TensorFlow binary is optimized to use available CPU instructions in performance-critical operations.\n",
      "To enable the following instructions: AVX2 FMA, in other operations, rebuild TensorFlow with the appropriate compiler flags.\n",
      "2023-09-22 19:59:14.719401: W tensorflow/compiler/tf2tensorrt/utils/py_utils.cc:38] TF-TRT Warning: Could not find TensorRT\n"
     ]
    }
   ],
   "source": [
    "import numpy as np\n",
    "import matplotlib.pyplot as plt\n",
    "import random as r\n",
    "\n",
    "import tensorflow as tf\n",
    "from tensorflow.keras import layers"
   ]
  },
  {
   "cell_type": "code",
   "execution_count": 2,
   "metadata": {},
   "outputs": [],
   "source": [
    "(x_train, y_train), (x_test, y_test) = tf.keras.datasets.cifar10.load_data()\n",
    "\n",
    "x_train = x_train/255\n",
    "x_test = x_test/255"
   ]
  },
  {
   "cell_type": "code",
   "execution_count": 3,
   "metadata": {},
   "outputs": [],
   "source": [
    "model = tf.keras.models.Sequential([\n",
    "    layers.Conv2D(32, (4, 4), activation=\"relu\", input_shape=(32, 32, 3)),\n",
    "    layers.MaxPooling2D((3, 3)),\n",
    "    layers.Flatten(),\n",
    "    layers.Dense(128, activation=\"relu\"),\n",
    "    layers.Dense(128, activation=\"relu\"),\n",
    "    layers.Dense(10, activation=\"softmax\")\n",
    "])"
   ]
  },
  {
   "cell_type": "code",
   "execution_count": 4,
   "metadata": {},
   "outputs": [],
   "source": [
    "model.compile(\n",
    "    optimizer=\"adam\",\n",
    "    loss=\"sparse_categorical_crossentropy\",\n",
    "    metrics=[\"accuracy\"]\n",
    ")"
   ]
  },
  {
   "cell_type": "code",
   "execution_count": 5,
   "metadata": {},
   "outputs": [
    {
     "name": "stdout",
     "output_type": "stream",
     "text": [
      "Epoch 1/10\n"
     ]
    },
    {
     "name": "stderr",
     "output_type": "stream",
     "text": [
      "2023-09-22 19:59:17.573585: W tensorflow/tsl/framework/cpu_allocator_impl.cc:83] Allocation of 491520000 exceeds 10% of free system memory.\n"
     ]
    },
    {
     "name": "stdout",
     "output_type": "stream",
     "text": [
      "313/313 [==============================] - 9s 26ms/step - loss: 1.6034 - accuracy: 0.4182 - val_loss: 1.3496 - val_accuracy: 0.5244\n",
      "Epoch 2/10\n",
      "313/313 [==============================] - 7s 24ms/step - loss: 1.2504 - accuracy: 0.5560 - val_loss: 1.1982 - val_accuracy: 0.5815\n",
      "Epoch 3/10\n",
      "313/313 [==============================] - 7s 24ms/step - loss: 1.1408 - accuracy: 0.5986 - val_loss: 1.1899 - val_accuracy: 0.5936\n",
      "Epoch 4/10\n",
      "313/313 [==============================] - 8s 25ms/step - loss: 1.0401 - accuracy: 0.6373 - val_loss: 1.0764 - val_accuracy: 0.6260\n",
      "Epoch 5/10\n",
      "313/313 [==============================] - 9s 28ms/step - loss: 0.9720 - accuracy: 0.6577 - val_loss: 1.0399 - val_accuracy: 0.6331\n",
      "Epoch 6/10\n",
      "313/313 [==============================] - 9s 28ms/step - loss: 0.9194 - accuracy: 0.6780 - val_loss: 1.0582 - val_accuracy: 0.6374\n",
      "Epoch 7/10\n",
      "313/313 [==============================] - 9s 28ms/step - loss: 0.8704 - accuracy: 0.6936 - val_loss: 1.0058 - val_accuracy: 0.6504\n",
      "Epoch 8/10\n",
      "313/313 [==============================] - 9s 28ms/step - loss: 0.8176 - accuracy: 0.7147 - val_loss: 1.0438 - val_accuracy: 0.6441\n",
      "Epoch 9/10\n",
      "313/313 [==============================] - 9s 28ms/step - loss: 0.7778 - accuracy: 0.7279 - val_loss: 1.0016 - val_accuracy: 0.6567\n",
      "Epoch 10/10\n",
      "313/313 [==============================] - 9s 28ms/step - loss: 0.7306 - accuracy: 0.7442 - val_loss: 1.0031 - val_accuracy: 0.6641\n"
     ]
    },
    {
     "data": {
      "text/plain": [
       "<keras.src.callbacks.History at 0x7fd530725990>"
      ]
     },
     "execution_count": 5,
     "metadata": {},
     "output_type": "execute_result"
    }
   ],
   "source": [
    "model.fit(x_train, y_train, epochs=10, batch_size=128, validation_split=0.2)"
   ]
  },
  {
   "cell_type": "code",
   "execution_count": 6,
   "metadata": {},
   "outputs": [
    {
     "name": "stdout",
     "output_type": "stream",
     "text": [
      "313/313 [==============================] - 1s 3ms/step\n"
     ]
    }
   ],
   "source": [
    "probabilities = model.predict(x_test)\n",
    "predictions = np.argmax(probabilities, axis=1)"
   ]
  },
  {
   "cell_type": "code",
   "execution_count": 24,
   "metadata": {},
   "outputs": [
    {
     "data": {
      "image/png": "[encoded data removed]",
      "text/plain": [
       "<Figure size 640x480 with 1 Axes>"
      ]
     },
     "metadata": {},
     "output_type": "display_data"
    }
   ],
   "source": [
    "index = r.randint(0, len(y_test))\n",
    "\n",
    "labels = [\n",
    "    \"airplane\",\n",
    "    \"automobile\",\n",
    "    \"bird\",\n",
    "    \"cat\",\n",
    "    \"deer\",\n",
    "    \"dog\",\n",
    "    \"frog\",\n",
    "    \"horse\",\n",
    "    \"ship\",\n",
    "    \"truck\"\n",
    "]\n",
    "\n",
    "plt.imshow(x_test[index])\n",
    "plt.title(f\"Prediction: {labels[predictions[index]]} - Actual: {labels[y_test[index][0]]}\")\n",
    "plt.show()"
   ]
  }
 ],
 "metadata": {
  "kernelspec": {
   "display_name": "Python 3",
   "language": "python",
   "name": "python3"
  },
  "language_info": {
   "codemirror_mode": {
    "name": "ipython",
    "version": 3
   },
   "file_extension": ".py",
   "mimetype": "text/x-python",
   "name": "python",
   "nbconvert_exporter": "python",
   "pygments_lexer": "ipython3",
   "version": "3.10.12"
  },
  "orig_nbformat": 4
 },
 "nbformat": 4,
 "nbformat_minor": 2
}
