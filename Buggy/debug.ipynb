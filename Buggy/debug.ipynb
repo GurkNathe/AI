{
 "cells": [
  {
   "cell_type": "code",
   "execution_count": 1,
   "metadata": {},
   "outputs": [],
   "source": [
    "import os"
   ]
  },
  {
   "cell_type": "code",
   "execution_count": 2,
   "metadata": {},
   "outputs": [
    {
     "name": "stdout",
     "output_type": "stream",
     "text": [
      "Data/: 0 files\n",
      "Data/Hemiptera: 2387 files\n",
      "Data/Diptera: 2030 files\n",
      "Data/Odonata: 2277 files\n",
      "Data/Lepidoptera: 2106 files\n",
      "Data/Hymenoptera: 2048 files\n",
      "Data/Coleoptera: 2110 files\n",
      "Data/Araneae: 2418 files\n",
      "15376\n"
     ]
    }
   ],
   "source": [
    "path = \"Data/\"\n",
    "\n",
    "count = 0\n",
    "for dirpath, dirnames, filenames in os.walk(path):\n",
    "    print(f\"{dirpath}: {len(filenames)} files\")\n",
    "    count += len(filenames)\n",
    "print(count)"
   ]
  }
 ],
 "metadata": {
  "kernelspec": {
   "display_name": "Python 3",
   "language": "python",
   "name": "python3"
  },
  "language_info": {
   "codemirror_mode": {
    "name": "ipython",
    "version": 3
   },
   "file_extension": ".py",
   "mimetype": "text/x-python",
   "name": "python",
   "nbconvert_exporter": "python",
   "pygments_lexer": "ipython3",
   "version": "3.10.12"
  },
  "orig_nbformat": 4
 },
 "nbformat": 4,
 "nbformat_minor": 2
}
