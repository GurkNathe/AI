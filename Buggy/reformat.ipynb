{
 "cells": [
  {
   "cell_type": "code",
   "execution_count": 1,
   "metadata": {},
   "outputs": [],
   "source": [
    "from PIL import Image\n",
    "import glob\n",
    "import os"
   ]
  },
  {
   "cell_type": "code",
   "execution_count": 2,
   "metadata": {},
   "outputs": [],
   "source": [
    "image_list = []\n",
    "\n",
    "for f in os.listdir(\"ArTaxOr/\"):\n",
    "    info = os.path.splitext(f)\n",
    "    if not len(info[1]):\n",
    "        for file in glob.glob(f\"ArTaxOr/{info[0]}/*.jpg\"):\n",
    "            file_path = file.split(\"/\")\n",
    "            im = Image.open(file)\n",
    "            im = im.resize((100,100))\n",
    "            save_path = f\"Data/{info[0]}\"\n",
    "            if not os.path.exists(save_path):\n",
    "                os.makedirs(save_path)\n",
    "            im = im.save(f\"{save_path}/{file_path[len(file_path) - 1]}\")\n"
   ]
  }
 ],
 "metadata": {
  "kernelspec": {
   "display_name": "Python 3",
   "language": "python",
   "name": "python3"
  },
  "language_info": {
   "codemirror_mode": {
    "name": "ipython",
    "version": 3
   },
   "file_extension": ".py",
   "mimetype": "text/x-python",
   "name": "python",
   "nbconvert_exporter": "python",
   "pygments_lexer": "ipython3",
   "version": "3.10.12"
  },
  "orig_nbformat": 4
 },
 "nbformat": 4,
 "nbformat_minor": 2
}
