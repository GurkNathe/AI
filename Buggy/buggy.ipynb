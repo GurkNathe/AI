{
 "cells": [
  {
   "cell_type": "code",
   "execution_count": 1,
   "metadata": {},
   "outputs": [
    {
     "name": "stderr",
     "output_type": "stream",
     "text": [
      "2023-10-01 13:37:41.676482: I tensorflow/tsl/cuda/cudart_stub.cc:28] Could not find cuda drivers on your machine, GPU will not be used.\n",
      "2023-10-01 13:37:41.722562: I tensorflow/tsl/cuda/cudart_stub.cc:28] Could not find cuda drivers on your machine, GPU will not be used.\n",
      "2023-10-01 13:37:41.723158: I tensorflow/core/platform/cpu_feature_guard.cc:182] This TensorFlow binary is optimized to use available CPU instructions in performance-critical operations.\n",
      "To enable the following instructions: AVX2 FMA, in other operations, rebuild TensorFlow with the appropriate compiler flags.\n",
      "2023-10-01 13:37:42.614825: W tensorflow/compiler/tf2tensorrt/utils/py_utils.cc:38] TF-TRT Warning: Could not find TensorRT\n"
     ]
    }
   ],
   "source": [
    "import tensorflow as tf\n",
    "from tensorflow.keras import layers, models, utils\n",
    "\n",
    "import numpy as np\n",
    "import matplotlib.pyplot as plt\n",
    "import random as r"
   ]
  },
  {
   "cell_type": "code",
   "execution_count": 2,
   "metadata": {},
   "outputs": [
    {
     "name": "stdout",
     "output_type": "stream",
     "text": [
      "Found 15376 files belonging to 7 classes.\n",
      "Using 12301 files for training.\n",
      "Using 3075 files for validation.\n"
     ]
    }
   ],
   "source": [
    "training_data, testing_data = utils.image_dataset_from_directory(\n",
    "    \"Data/\",\n",
    "    image_size=(100,100),\n",
    "    seed=123456789,\n",
    "    validation_split=0.2,\n",
    "    subset=\"both\",\n",
    "    color_mode=\"rgb\",\n",
    "    shuffle=True\n",
    ")"
   ]
  },
  {
   "cell_type": "code",
   "execution_count": 3,
   "metadata": {},
   "outputs": [],
   "source": [
    "model = models.Sequential([\n",
    "    layers.Rescaling(1./255),\n",
    "    layers.Conv2D(32, (3, 3), activation=\"relu\", input_shape=(100, 100, 3)),\n",
    "    layers.MaxPooling2D((2, 2)),\n",
    "    layers.Dropout(0.2),\n",
    "    layers.Conv2D(64, (3, 3), activation='relu', padding='same'),\n",
    "    layers.MaxPooling2D((2, 2)),\n",
    "    layers.Dropout(0.3),\n",
    "    layers.Flatten(),\n",
    "    layers.Dense(128, activation='relu'),\n",
    "    layers.Dense(7, activation='softmax')\n",
    "])"
   ]
  },
  {
   "cell_type": "code",
   "execution_count": 4,
   "metadata": {},
   "outputs": [],
   "source": [
    "model.compile(\n",
    "    optimizer=\"adam\",\n",
    "    loss=tf.keras.losses.SparseCategoricalCrossentropy(from_logits=True),\n",
    "    metrics=[\"accuracy\"]\n",
    ")"
   ]
  },
  {
   "cell_type": "code",
   "execution_count": 5,
   "metadata": {},
   "outputs": [
    {
     "name": "stdout",
     "output_type": "stream",
     "text": [
      "Epoch 1/10\n"
     ]
    },
    {
     "name": "stderr",
     "output_type": "stream",
     "text": [
      "/home/krug/.local/lib/python3.10/site-packages/keras/src/backend.py:5714: UserWarning: \"`sparse_categorical_crossentropy` received `from_logits=True`, but the `output` argument was produced by a Softmax activation and thus does not represent logits. Was this intended?\n",
      "  output, from_logits = _get_logits(\n"
     ]
    },
    {
     "name": "stdout",
     "output_type": "stream",
     "text": [
      "385/385 [==============================] - 81s 208ms/step - loss: 1.9520 - accuracy: 0.1817 - val_loss: 1.9036 - val_accuracy: 0.2075\n",
      "Epoch 2/10\n",
      "385/385 [==============================] - 82s 212ms/step - loss: 1.8600 - accuracy: 0.2438 - val_loss: 1.8501 - val_accuracy: 0.2641\n",
      "Epoch 3/10\n",
      "385/385 [==============================] - 80s 208ms/step - loss: 1.7917 - accuracy: 0.2945 - val_loss: 1.8153 - val_accuracy: 0.2859\n",
      "Epoch 4/10\n",
      "385/385 [==============================] - 80s 208ms/step - loss: 1.7143 - accuracy: 0.3367 - val_loss: 1.7818 - val_accuracy: 0.3122\n",
      "Epoch 5/10\n",
      "385/385 [==============================] - 80s 207ms/step - loss: 1.5866 - accuracy: 0.3954 - val_loss: 1.8330 - val_accuracy: 0.3167\n",
      "Epoch 6/10\n",
      "385/385 [==============================] - 79s 204ms/step - loss: 1.4070 - accuracy: 0.4718 - val_loss: 1.9478 - val_accuracy: 0.3392\n",
      "Epoch 7/10\n",
      "385/385 [==============================] - 79s 204ms/step - loss: 1.1910 - accuracy: 0.5617 - val_loss: 2.1486 - val_accuracy: 0.3356\n",
      "Epoch 8/10\n",
      "385/385 [==============================] - 80s 207ms/step - loss: 0.9785 - accuracy: 0.6496 - val_loss: 2.3074 - val_accuracy: 0.3158\n",
      "Epoch 9/10\n",
      "385/385 [==============================] - 79s 206ms/step - loss: 0.7752 - accuracy: 0.7232 - val_loss: 2.6648 - val_accuracy: 0.3132\n",
      "Epoch 10/10\n",
      "385/385 [==============================] - 81s 210ms/step - loss: 0.6283 - accuracy: 0.7773 - val_loss: 2.9022 - val_accuracy: 0.3060\n"
     ]
    }
   ],
   "source": [
    "\n",
    "history = model.fit(training_data, epochs=10, validation_data=testing_data)"
   ]
  },
  {
   "cell_type": "code",
   "execution_count": 6,
   "metadata": {},
   "outputs": [
    {
     "name": "stdout",
     "output_type": "stream",
     "text": [
      "97/97 [==============================] - 5s 47ms/step\n"
     ]
    }
   ],
   "source": [
    "probabilities = model.predict(testing_data)\n",
    "predictions = np.argmax(probabilities, axis=1)"
   ]
  },
  {
   "cell_type": "code",
   "execution_count": 1,
   "metadata": {},
   "outputs": [
    {
     "ename": "NameError",
     "evalue": "name 'testing_data' is not defined",
     "output_type": "error",
     "traceback": [
      "\u001b[0;31m---------------------------------------------------------------------------\u001b[0m",
      "\u001b[0;31mNameError\u001b[0m                                 Traceback (most recent call last)",
      "\u001b[1;32m/home/krug/Coding/Python/AI/Buggy/buggy.ipynb Cell 7\u001b[0m line \u001b[0;36m1\n\u001b[0;32m----> <a href='vscode-notebook-cell:/home/krug/Coding/Python/AI/Buggy/buggy.ipynb#W6sZmlsZQ%3D%3D?line=0'>1</a>\u001b[0m t_data \u001b[39m=\u001b[39m testing_data\u001b[39m.\u001b[39mrepeat()\n\u001b[1;32m      <a href='vscode-notebook-cell:/home/krug/Coding/Python/AI/Buggy/buggy.ipynb#W6sZmlsZQ%3D%3D?line=1'>2</a>\u001b[0m skips \u001b[39m=\u001b[39m r\u001b[39m.\u001b[39mrandint(\u001b[39m0\u001b[39m, \u001b[39mlen\u001b[39m(testing_data) \u001b[39m-\u001b[39m \u001b[39m1\u001b[39m)\n\u001b[1;32m      <a href='vscode-notebook-cell:/home/krug/Coding/Python/AI/Buggy/buggy.ipynb#W6sZmlsZQ%3D%3D?line=2'>3</a>\u001b[0m rt_data \u001b[39m=\u001b[39m t_data\u001b[39m.\u001b[39mskip(skips)\n",
      "\u001b[0;31mNameError\u001b[0m: name 'testing_data' is not defined"
     ]
    }
   ],
   "source": [
    "t_data = testing_data.repeat()\n",
    "skips = r.randint(0, len(testing_data) - 1)\n",
    "rt_data = t_data.skip(skips)\n",
    "\n",
    "for image, label in rt_data.take(1):\n",
    "    pass\n",
    "\n",
    "labels = [\"Araneae\", \"Coleoptera\", \"Diptera\", \n",
    "          \"Hemiptera\", \"Hymenoptera\", \"Lapidoptera\",\n",
    "          \"Odonata\"]\n",
    "\n",
    "index = r.randint(0, len(label) - 1)\n",
    "\n",
    "img = image[index] / 255\n",
    "\n",
    "plt.imshow(img)\n",
    "plt.title(f\"Prediction: {labels[predictions[skips * len(label) + index]]} - Actual: {labels[label[index]]}\")\n",
    "plt.show()"
   ]
  }
 ],
 "metadata": {
  "kernelspec": {
   "display_name": "Python 3",
   "language": "python",
   "name": "python3"
  },
  "language_info": {
   "codemirror_mode": {
    "name": "ipython",
    "version": 3
   },
   "file_extension": ".py",
   "mimetype": "text/x-python",
   "name": "python",
   "nbconvert_exporter": "python",
   "pygments_lexer": "ipython3",
   "version": "3.10.12"
  },
  "orig_nbformat": 4
 },
 "nbformat": 4,
 "nbformat_minor": 2
}
