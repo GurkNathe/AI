{
 "cells": [
  {
   "cell_type": "code",
   "execution_count": 1,
   "metadata": {},
   "outputs": [
    {
     "name": "stderr",
     "output_type": "stream",
     "text": [
      "2023-10-01 11:05:26.545343: I tensorflow/tsl/cuda/cudart_stub.cc:28] Could not find cuda drivers on your machine, GPU will not be used.\n",
      "2023-10-01 11:05:26.814566: I tensorflow/tsl/cuda/cudart_stub.cc:28] Could not find cuda drivers on your machine, GPU will not be used.\n",
      "2023-10-01 11:05:26.815636: I tensorflow/core/platform/cpu_feature_guard.cc:182] This TensorFlow binary is optimized to use available CPU instructions in performance-critical operations.\n",
      "To enable the following instructions: AVX2 FMA, in other operations, rebuild TensorFlow with the appropriate compiler flags.\n",
      "2023-10-01 11:05:28.153227: W tensorflow/compiler/tf2tensorrt/utils/py_utils.cc:38] TF-TRT Warning: Could not find TensorRT\n"
     ]
    }
   ],
   "source": [
    "import numpy as np\n",
    "import matplotlib.pyplot as plt\n",
    "\n",
    "import tensorflow as tf\n",
    "from tensorflow.keras import layers\n",
    "\n",
    "import random as r\n",
    "\n",
    "from helper import flip_image\n",
    "from helper import rotate_image\n",
    "from helper import random_crop_image\n",
    "from helper import adjust_brightness_image\n",
    "from helper import adjust_contrast_image"
   ]
  },
  {
   "cell_type": "code",
   "execution_count": 2,
   "metadata": {},
   "outputs": [],
   "source": [
    "(x_train, y_train), (x_test, y_test) = tf.keras.datasets.mnist.load_data()\n",
    "\n",
    "x_train = x_train/255\n",
    "x_test = x_test/255"
   ]
  },
  {
   "cell_type": "code",
   "execution_count": 3,
   "metadata": {},
   "outputs": [],
   "source": [
    "model = tf.keras.models.Sequential([\n",
    "    layers.Input(x_train.shape[1:]),\n",
    "    layers.Flatten(),\n",
    "    layers.Dense(128, activation=\"relu\"),\n",
    "    layers.Dense(128, activation=\"relu\"),\n",
    "    layers.Dense(10, activation=\"softmax\")\n",
    "])"
   ]
  },
  {
   "cell_type": "code",
   "execution_count": 4,
   "metadata": {},
   "outputs": [],
   "source": [
    "model.compile(\n",
    "    optimizer=\"adam\",\n",
    "    loss=tf.keras.losses.SparseCategoricalCrossentropy(),\n",
    "    metrics=[\"accuracy\"]\n",
    ")"
   ]
  },
  {
   "cell_type": "code",
   "execution_count": 5,
   "metadata": {},
   "outputs": [],
   "source": [
    "x_train_3 = tf.expand_dims(x_train, axis=1)\n",
    "train = tf.data.Dataset.from_tensor_slices((x_train_3, y_train))\n",
    "\n",
    "a_train = train.map(random_crop_image)\n",
    "a_train = a_train.map(adjust_brightness_image)\n",
    "a_train = a_train.map(adjust_contrast_image)\n",
    "a_train = a_train.shuffle(len(x_train)).batch(32)\n",
    "\n",
    "# Convert the train dataset back to (x_train, y_train) format\n",
    "converted_x_train = []\n",
    "converted_y_train = []\n",
    "\n",
    "for x, y in a_train.as_numpy_iterator():\n",
    "    converted_x_train.append(x)\n",
    "    converted_y_train.append(y)\n",
    "\n",
    "x_train = np.array(converted_x_train)\n",
    "y_train = np.array(converted_y_train)\n",
    "x_train = tf.reshape(x_train, shape=(60000, 28, 28))\n",
    "y_train = tf.reshape(y_train, shape=(60000,))\n"
   ]
  },
  {
   "cell_type": "code",
   "execution_count": 6,
   "metadata": {},
   "outputs": [
    {
     "name": "stdout",
     "output_type": "stream",
     "text": [
      "Epoch 1/10\n",
      "375/375 [==============================] - 2s 4ms/step - loss: 0.3248 - accuracy: 0.9028 - val_loss: 0.1776 - val_accuracy: 0.9457\n",
      "Epoch 2/10\n",
      "375/375 [==============================] - 1s 3ms/step - loss: 0.1375 - accuracy: 0.9589 - val_loss: 0.1157 - val_accuracy: 0.9637\n",
      "Epoch 3/10\n",
      "375/375 [==============================] - 1s 3ms/step - loss: 0.0922 - accuracy: 0.9725 - val_loss: 0.1185 - val_accuracy: 0.9631\n",
      "Epoch 4/10\n",
      "375/375 [==============================] - 1s 3ms/step - loss: 0.0698 - accuracy: 0.9788 - val_loss: 0.0970 - val_accuracy: 0.9710\n",
      "Epoch 5/10\n",
      "375/375 [==============================] - 1s 3ms/step - loss: 0.0560 - accuracy: 0.9821 - val_loss: 0.0923 - val_accuracy: 0.9730\n",
      "Epoch 6/10\n",
      "375/375 [==============================] - 1s 3ms/step - loss: 0.0448 - accuracy: 0.9853 - val_loss: 0.0876 - val_accuracy: 0.9738\n",
      "Epoch 7/10\n",
      "375/375 [==============================] - 1s 3ms/step - loss: 0.0342 - accuracy: 0.9890 - val_loss: 0.0908 - val_accuracy: 0.9724\n",
      "Epoch 8/10\n",
      "375/375 [==============================] - 1s 3ms/step - loss: 0.0281 - accuracy: 0.9914 - val_loss: 0.0889 - val_accuracy: 0.9761\n",
      "Epoch 9/10\n",
      "375/375 [==============================] - 1s 3ms/step - loss: 0.0248 - accuracy: 0.9919 - val_loss: 0.0896 - val_accuracy: 0.9753\n",
      "Epoch 10/10\n",
      "375/375 [==============================] - 1s 3ms/step - loss: 0.0189 - accuracy: 0.9940 - val_loss: 0.0943 - val_accuracy: 0.9757\n"
     ]
    },
    {
     "data": {
      "text/plain": [
       "<keras.src.callbacks.History at 0x7fbd12c32290>"
      ]
     },
     "execution_count": 6,
     "metadata": {},
     "output_type": "execute_result"
    }
   ],
   "source": [
    "model.fit(x_train, y_train, epochs=10, batch_size=128, validation_split=0.2)"
   ]
  },
  {
   "cell_type": "code",
   "execution_count": 7,
   "metadata": {},
   "outputs": [
    {
     "name": "stdout",
     "output_type": "stream",
     "text": [
      "313/313 [==============================] - 1s 1ms/step\n"
     ]
    }
   ],
   "source": [
    "probabilities = model.predict(x_test)\n",
    "predictions = np.argmax(probabilities, axis=1)"
   ]
  },
  {
   "cell_type": "code",
   "execution_count": 22,
   "metadata": {},
   "outputs": [
    {
     "data": {
      "image/png": "[encoded data removed]",
      "text/plain": [
       "<Figure size 640x480 with 1 Axes>"
      ]
     },
     "metadata": {},
     "output_type": "display_data"
    }
   ],
   "source": [
    "index = r.randint(0, len(y_test))\n",
    "\n",
    "plt.imshow(x_test[index], cmap=\"Greys\")\n",
    "plt.title(f\"Prediction: {predictions[index]} - Actual: {y_test[index]}\")\n",
    "plt.show()"
   ]
  }
 ],
 "metadata": {
  "kernelspec": {
   "display_name": "Python 3",
   "language": "python",
   "name": "python3"
  },
  "language_info": {
   "codemirror_mode": {
    "name": "ipython",
    "version": 3
   },
   "file_extension": ".py",
   "mimetype": "text/x-python",
   "name": "python",
   "nbconvert_exporter": "python",
   "pygments_lexer": "ipython3",
   "version": "3.10.12"
  },
  "orig_nbformat": 4
 },
 "nbformat": 4,
 "nbformat_minor": 2
}
